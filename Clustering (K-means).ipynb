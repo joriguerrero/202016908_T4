{
 "cells": [
  {
   "cell_type": "markdown",
   "id": "7756f4d0-2ba5-40d1-b994-e8e57761b74b",
   "metadata": {},
   "source": [
    "# Realizar un análisis exploratorio de los datos para identificar relaciones entre variables, valores atípicos, tendencias, etc."
   ]
  },
  {
   "cell_type": "code",
   "execution_count": 2,
   "id": "fd90ab28-2f73-4d6f-b8d5-dc7795ee8336",
   "metadata": {},
   "outputs": [],
   "source": [
    "import numpy as np\n",
    "import pandas as pd\n",
    "import matplotlib.pyplot as plt\n",
    "import seaborn as sns\n",
    "from sklearn.cluster import KMeans\n",
    "from sklearn.preprocessing import LabelEncoder\n",
    "from sklearn.metrics import silhouette_score, calinski_harabasz_score, davies_bouldin_score\n",
    "import plotly.graph_objs as go # Creación de gráficos en tres dimensiones\n",
    "import plotly.express as px\n",
    "\n",
    "import warnings\n",
    "warnings.filterwarnings('ignore')"
   ]
  },
  {
   "cell_type": "code",
   "execution_count": 4,
   "id": "d7a23abd-a3c2-4db1-8e02-6d9ed06339de",
   "metadata": {},
   "outputs": [],
   "source": [
    "# Cargar los datos en la variable datos\n",
    "customer_data = pd.read_csv('Mall_Customers.csv')"
   ]
  },
  {
   "cell_type": "code",
   "execution_count": 6,
   "id": "45d3cb22-4385-40d9-a81e-29539cd2f242",
   "metadata": {},
   "outputs": [
    {
     "data": {
      "text/html": [
       "<div>\n",
       "<style scoped>\n",
       "    .dataframe tbody tr th:only-of-type {\n",
       "        vertical-align: middle;\n",
       "    }\n",
       "\n",
       "    .dataframe tbody tr th {\n",
       "        vertical-align: top;\n",
       "    }\n",
       "\n",
       "    .dataframe thead th {\n",
       "        text-align: right;\n",
       "    }\n",
       "</style>\n",
       "<table border=\"1\" class=\"dataframe\">\n",
       "  <thead>\n",
       "    <tr style=\"text-align: right;\">\n",
       "      <th></th>\n",
       "      <th>CustomerID</th>\n",
       "      <th>Gender</th>\n",
       "      <th>Age</th>\n",
       "      <th>Annual Income (k$)</th>\n",
       "      <th>Spending Score (1-100)</th>\n",
       "    </tr>\n",
       "  </thead>\n",
       "  <tbody>\n",
       "    <tr>\n",
       "      <th>0</th>\n",
       "      <td>1</td>\n",
       "      <td>Male</td>\n",
       "      <td>19</td>\n",
       "      <td>15</td>\n",
       "      <td>39</td>\n",
       "    </tr>\n",
       "    <tr>\n",
       "      <th>1</th>\n",
       "      <td>2</td>\n",
       "      <td>Male</td>\n",
       "      <td>21</td>\n",
       "      <td>15</td>\n",
       "      <td>81</td>\n",
       "    </tr>\n",
       "    <tr>\n",
       "      <th>2</th>\n",
       "      <td>3</td>\n",
       "      <td>Female</td>\n",
       "      <td>20</td>\n",
       "      <td>16</td>\n",
       "      <td>6</td>\n",
       "    </tr>\n",
       "    <tr>\n",
       "      <th>3</th>\n",
       "      <td>4</td>\n",
       "      <td>Female</td>\n",
       "      <td>23</td>\n",
       "      <td>16</td>\n",
       "      <td>77</td>\n",
       "    </tr>\n",
       "    <tr>\n",
       "      <th>4</th>\n",
       "      <td>5</td>\n",
       "      <td>Female</td>\n",
       "      <td>31</td>\n",
       "      <td>17</td>\n",
       "      <td>40</td>\n",
       "    </tr>\n",
       "  </tbody>\n",
       "</table>\n",
       "</div>"
      ],
      "text/plain": [
       "   CustomerID  Gender  Age  Annual Income (k$)  Spending Score (1-100)\n",
       "0           1    Male   19                  15                      39\n",
       "1           2    Male   21                  15                      81\n",
       "2           3  Female   20                  16                       6\n",
       "3           4  Female   23                  16                      77\n",
       "4           5  Female   31                  17                      40"
      ]
     },
     "execution_count": 6,
     "metadata": {},
     "output_type": "execute_result"
    }
   ],
   "source": [
    "# Realizamos lectura de los Datos para el análisis exploratorio\n",
    "customer_data.head()"
   ]
  },
  {
   "cell_type": "code",
   "execution_count": 8,
   "id": "e8ddd089-3160-44f3-9752-8ab31623c143",
   "metadata": {},
   "outputs": [
    {
     "data": {
      "text/plain": [
       "(200, 5)"
      ]
     },
     "execution_count": 8,
     "metadata": {},
     "output_type": "execute_result"
    }
   ],
   "source": [
    "# número de filas y columnas\n",
    "customer_data.shape"
   ]
  },
  {
   "cell_type": "code",
   "execution_count": 10,
   "id": "500abbc5-e3ae-47f8-9f44-8dbd46a87a6d",
   "metadata": {},
   "outputs": [
    {
     "name": "stdout",
     "output_type": "stream",
     "text": [
      "<class 'pandas.core.frame.DataFrame'>\n",
      "RangeIndex: 200 entries, 0 to 199\n",
      "Data columns (total 5 columns):\n",
      " #   Column                  Non-Null Count  Dtype \n",
      "---  ------                  --------------  ----- \n",
      " 0   CustomerID              200 non-null    int64 \n",
      " 1   Gender                  200 non-null    object\n",
      " 2   Age                     200 non-null    int64 \n",
      " 3   Annual Income (k$)      200 non-null    int64 \n",
      " 4   Spending Score (1-100)  200 non-null    int64 \n",
      "dtypes: int64(4), object(1)\n",
      "memory usage: 7.9+ KB\n"
     ]
    }
   ],
   "source": [
    "# información general sobre el conjunto de datos\n",
    "customer_data.info()"
   ]
  },
  {
   "cell_type": "code",
   "execution_count": 12,
   "id": "f2594719-d2ca-41a0-8545-38bfb4df3b3f",
   "metadata": {},
   "outputs": [
    {
     "data": {
      "text/plain": [
       "CustomerID                0\n",
       "Gender                    0\n",
       "Age                       0\n",
       "Annual Income (k$)        0\n",
       "Spending Score (1-100)    0\n",
       "dtype: int64"
      ]
     },
     "execution_count": 12,
     "metadata": {},
     "output_type": "execute_result"
    }
   ],
   "source": [
    "# Identifacion de valores faltantes\n",
    "customer_data.isnull().sum()"
   ]
  },
  {
   "cell_type": "code",
   "execution_count": 14,
   "id": "eaeabaa8-69c7-428d-9824-33fccd1ce615",
   "metadata": {},
   "outputs": [
    {
     "data": {
      "image/png": "[encoded data removed]",
      "text/plain": [
       "<Figure size 1300x300 with 2 Axes>"
      ]
     },
     "metadata": {},
     "output_type": "display_data"
    },
    {
     "data": {
      "image/png": "[encoded data removed]",
      "text/plain": [
       "<Figure size 1300x300 with 2 Axes>"
      ]
     },
     "metadata": {},
     "output_type": "display_data"
    }
   ],
   "source": [
    "# Boxplots para detectar outliers en columnas numericas\n",
    "num_cols = ['Age','Annual Income (k$)','Spending Score (1-100)', 'CustomerID']\n",
    "i=0\n",
    "while i < 4:\n",
    "    fig = plt.figure(figsize=[13,3])\n",
    "    \n",
    "    plt.subplot(1,2,1)\n",
    "    sns.boxplot(x=num_cols[i], data=customer_data)\n",
    "    i += 1\n",
    "    \n",
    "    plt.subplot(1,2,2)\n",
    "    sns.boxplot(x=num_cols[i], data=customer_data)\n",
    "    i += 1\n",
    "    \n",
    "    plt.show()"
   ]
  },
  {
   "cell_type": "markdown",
   "id": "aa415457-6b04-460c-86b8-e0c7900af21a",
   "metadata": {},
   "source": [
    "# Preprocesamiento de datos y seleccion de caracteristicas"
   ]
  },
  {
   "cell_type": "markdown",
   "id": "53963f27-6f11-4f34-aee3-a02a28909ec9",
   "metadata": {},
   "source": [
    "Características de interes para el agrupamiento: \n",
    "- Ingresos anuales \n",
    "- Puntuación de gastos"
   ]
  },
  {
   "cell_type": "code",
   "execution_count": 18,
   "id": "e4bb69b9-b4f2-46c8-8a28-0a707b3db798",
   "metadata": {},
   "outputs": [
    {
     "data": {
      "text/html": [
       "<div>\n",
       "<style scoped>\n",
       "    .dataframe tbody tr th:only-of-type {\n",
       "        vertical-align: middle;\n",
       "    }\n",
       "\n",
       "    .dataframe tbody tr th {\n",
       "        vertical-align: top;\n",
       "    }\n",
       "\n",
       "    .dataframe thead th {\n",
       "        text-align: right;\n",
       "    }\n",
       "</style>\n",
       "<table border=\"1\" class=\"dataframe\">\n",
       "  <thead>\n",
       "    <tr style=\"text-align: right;\">\n",
       "      <th></th>\n",
       "      <th>Annual Income (k$)</th>\n",
       "      <th>Spending Score (1-100)</th>\n",
       "    </tr>\n",
       "  </thead>\n",
       "  <tbody>\n",
       "    <tr>\n",
       "      <th>0</th>\n",
       "      <td>15</td>\n",
       "      <td>39</td>\n",
       "    </tr>\n",
       "    <tr>\n",
       "      <th>1</th>\n",
       "      <td>15</td>\n",
       "      <td>81</td>\n",
       "    </tr>\n",
       "    <tr>\n",
       "      <th>2</th>\n",
       "      <td>16</td>\n",
       "      <td>6</td>\n",
       "    </tr>\n",
       "    <tr>\n",
       "      <th>3</th>\n",
       "      <td>16</td>\n",
       "      <td>77</td>\n",
       "    </tr>\n",
       "    <tr>\n",
       "      <th>4</th>\n",
       "      <td>17</td>\n",
       "      <td>40</td>\n",
       "    </tr>\n",
       "  </tbody>\n",
       "</table>\n",
       "</div>"
      ],
      "text/plain": [
       "   Annual Income (k$)  Spending Score (1-100)\n",
       "0                  15                      39\n",
       "1                  15                      81\n",
       "2                  16                       6\n",
       "3                  16                      77\n",
       "4                  17                      40"
      ]
     },
     "execution_count": 18,
     "metadata": {},
     "output_type": "execute_result"
    }
   ],
   "source": [
    "customer_data = customer_data[['Annual Income (k$)','Spending Score (1-100)']]\n",
    "customer_data.head()"
   ]
  },
  {
   "cell_type": "code",
   "execution_count": 20,
   "id": "e4924ed9-2dce-4b1c-865c-4fe90fd76738",
   "metadata": {},
   "outputs": [
    {
     "data": {
      "text/html": [
       "<div>\n",
       "<style scoped>\n",
       "    .dataframe tbody tr th:only-of-type {\n",
       "        vertical-align: middle;\n",
       "    }\n",
       "\n",
       "    .dataframe tbody tr th {\n",
       "        vertical-align: top;\n",
       "    }\n",
       "\n",
       "    .dataframe thead th {\n",
       "        text-align: right;\n",
       "    }\n",
       "</style>\n",
       "<table border=\"1\" class=\"dataframe\">\n",
       "  <thead>\n",
       "    <tr style=\"text-align: right;\">\n",
       "      <th></th>\n",
       "      <th>Annual Income (k$)</th>\n",
       "      <th>Spending Score (1-100)</th>\n",
       "    </tr>\n",
       "  </thead>\n",
       "  <tbody>\n",
       "    <tr>\n",
       "      <th>0</th>\n",
       "      <td>0.000000</td>\n",
       "      <td>0.387755</td>\n",
       "    </tr>\n",
       "    <tr>\n",
       "      <th>1</th>\n",
       "      <td>0.000000</td>\n",
       "      <td>0.816327</td>\n",
       "    </tr>\n",
       "    <tr>\n",
       "      <th>2</th>\n",
       "      <td>0.008197</td>\n",
       "      <td>0.051020</td>\n",
       "    </tr>\n",
       "    <tr>\n",
       "      <th>3</th>\n",
       "      <td>0.008197</td>\n",
       "      <td>0.775510</td>\n",
       "    </tr>\n",
       "    <tr>\n",
       "      <th>4</th>\n",
       "      <td>0.016393</td>\n",
       "      <td>0.397959</td>\n",
       "    </tr>\n",
       "    <tr>\n",
       "      <th>...</th>\n",
       "      <td>...</td>\n",
       "      <td>...</td>\n",
       "    </tr>\n",
       "    <tr>\n",
       "      <th>195</th>\n",
       "      <td>0.860656</td>\n",
       "      <td>0.795918</td>\n",
       "    </tr>\n",
       "    <tr>\n",
       "      <th>196</th>\n",
       "      <td>0.909836</td>\n",
       "      <td>0.275510</td>\n",
       "    </tr>\n",
       "    <tr>\n",
       "      <th>197</th>\n",
       "      <td>0.909836</td>\n",
       "      <td>0.744898</td>\n",
       "    </tr>\n",
       "    <tr>\n",
       "      <th>198</th>\n",
       "      <td>1.000000</td>\n",
       "      <td>0.173469</td>\n",
       "    </tr>\n",
       "    <tr>\n",
       "      <th>199</th>\n",
       "      <td>1.000000</td>\n",
       "      <td>0.836735</td>\n",
       "    </tr>\n",
       "  </tbody>\n",
       "</table>\n",
       "<p>200 rows × 2 columns</p>\n",
       "</div>"
      ],
      "text/plain": [
       "     Annual Income (k$)  Spending Score (1-100)\n",
       "0              0.000000                0.387755\n",
       "1              0.000000                0.816327\n",
       "2              0.008197                0.051020\n",
       "3              0.008197                0.775510\n",
       "4              0.016393                0.397959\n",
       "..                  ...                     ...\n",
       "195            0.860656                0.795918\n",
       "196            0.909836                0.275510\n",
       "197            0.909836                0.744898\n",
       "198            1.000000                0.173469\n",
       "199            1.000000                0.836735\n",
       "\n",
       "[200 rows x 2 columns]"
      ]
     },
     "execution_count": 20,
     "metadata": {},
     "output_type": "execute_result"
    }
   ],
   "source": [
    "# escalar nuestros datos \n",
    "from sklearn.preprocessing import MinMaxScaler\n",
    "\n",
    "scaler = MinMaxScaler()\n",
    "scaled_data = pd.DataFrame(scaler.fit_transform(customer_data), columns = customer_data.columns)\n",
    "\n",
    "# Mostrar los datos escalonados \n",
    "customer_data = scaled_data\n",
    "customer_data"
   ]
  },
  {
   "cell_type": "code",
   "execution_count": 34,
   "id": "08ff4846-1e50-4c7d-8f1e-6da7a87a95d8",
   "metadata": {},
   "outputs": [
    {
     "name": "stdout",
     "output_type": "stream",
     "text": [
      "[[0.         0.3877551 ]\n",
      " [0.         0.81632653]\n",
      " [0.00819672 0.05102041]\n",
      " [0.00819672 0.7755102 ]\n",
      " [0.01639344 0.39795918]\n",
      " [0.01639344 0.76530612]\n",
      " [0.02459016 0.05102041]\n",
      " [0.02459016 0.94897959]\n",
      " [0.03278689 0.02040816]\n",
      " [0.03278689 0.7244898 ]\n",
      " [0.03278689 0.13265306]\n",
      " [0.03278689 1.        ]\n",
      " [0.04098361 0.14285714]\n",
      " [0.04098361 0.7755102 ]\n",
      " [0.04098361 0.12244898]\n",
      " [0.04098361 0.79591837]\n",
      " [0.04918033 0.34693878]\n",
      " [0.04918033 0.66326531]\n",
      " [0.06557377 0.28571429]\n",
      " [0.06557377 0.98979592]\n",
      " [0.07377049 0.34693878]\n",
      " [0.07377049 0.73469388]\n",
      " [0.08196721 0.04081633]\n",
      " [0.08196721 0.73469388]\n",
      " [0.10655738 0.13265306]\n",
      " [0.10655738 0.82653061]\n",
      " [0.10655738 0.31632653]\n",
      " [0.10655738 0.6122449 ]\n",
      " [0.1147541  0.30612245]\n",
      " [0.1147541  0.87755102]\n",
      " [0.12295082 0.03061224]\n",
      " [0.12295082 0.73469388]\n",
      " [0.14754098 0.03061224]\n",
      " [0.14754098 0.92857143]\n",
      " [0.14754098 0.13265306]\n",
      " [0.14754098 0.81632653]\n",
      " [0.1557377  0.16326531]\n",
      " [0.1557377  0.73469388]\n",
      " [0.18032787 0.25510204]\n",
      " [0.18032787 0.75510204]\n",
      " [0.18852459 0.34693878]\n",
      " [0.18852459 0.92857143]\n",
      " [0.19672131 0.35714286]\n",
      " [0.19672131 0.6122449 ]\n",
      " [0.19672131 0.2755102 ]\n",
      " [0.19672131 0.65306122]\n",
      " [0.20491803 0.55102041]\n",
      " [0.20491803 0.46938776]\n",
      " [0.20491803 0.41836735]\n",
      " [0.20491803 0.41836735]\n",
      " [0.22131148 0.52040816]\n",
      " [0.22131148 0.60204082]\n",
      " [0.2295082  0.54081633]\n",
      " [0.2295082  0.60204082]\n",
      " [0.2295082  0.44897959]\n",
      " [0.2295082  0.40816327]\n",
      " [0.23770492 0.5       ]\n",
      " [0.23770492 0.45918367]\n",
      " [0.25409836 0.51020408]\n",
      " [0.25409836 0.45918367]\n",
      " [0.25409836 0.56122449]\n",
      " [0.25409836 0.55102041]\n",
      " [0.26229508 0.52040816]\n",
      " [0.26229508 0.59183673]\n",
      " [0.2704918  0.51020408]\n",
      " [0.2704918  0.59183673]\n",
      " [0.2704918  0.5       ]\n",
      " [0.2704918  0.47959184]\n",
      " [0.2704918  0.59183673]\n",
      " [0.2704918  0.46938776]\n",
      " [0.27868852 0.55102041]\n",
      " [0.27868852 0.41836735]\n",
      " [0.28688525 0.48979592]\n",
      " [0.28688525 0.56122449]\n",
      " [0.31967213 0.46938776]\n",
      " [0.31967213 0.54081633]\n",
      " [0.31967213 0.53061224]\n",
      " [0.31967213 0.47959184]\n",
      " [0.31967213 0.52040816]\n",
      " [0.31967213 0.41836735]\n",
      " [0.31967213 0.51020408]\n",
      " [0.31967213 0.55102041]\n",
      " [0.31967213 0.40816327]\n",
      " [0.31967213 0.43877551]\n",
      " [0.31967213 0.57142857]\n",
      " [0.31967213 0.45918367]\n",
      " [0.3442623  0.58163265]\n",
      " [0.3442623  0.55102041]\n",
      " [0.35245902 0.60204082]\n",
      " [0.35245902 0.45918367]\n",
      " [0.36065574 0.55102041]\n",
      " [0.36065574 0.40816327]\n",
      " [0.36885246 0.48979592]\n",
      " [0.36885246 0.39795918]\n",
      " [0.36885246 0.41836735]\n",
      " [0.36885246 0.52040816]\n",
      " [0.36885246 0.46938776]\n",
      " [0.36885246 0.5       ]\n",
      " [0.37704918 0.41836735]\n",
      " [0.37704918 0.48979592]\n",
      " [0.3852459  0.40816327]\n",
      " [0.3852459  0.47959184]\n",
      " [0.3852459  0.59183673]\n",
      " [0.3852459  0.55102041]\n",
      " [0.3852459  0.56122449]\n",
      " [0.3852459  0.41836735]\n",
      " [0.39344262 0.5       ]\n",
      " [0.39344262 0.45918367]\n",
      " [0.39344262 0.42857143]\n",
      " [0.39344262 0.47959184]\n",
      " [0.39344262 0.52040816]\n",
      " [0.39344262 0.54081633]\n",
      " [0.40163934 0.41836735]\n",
      " [0.40163934 0.45918367]\n",
      " [0.40983607 0.47959184]\n",
      " [0.40983607 0.5       ]\n",
      " [0.40983607 0.42857143]\n",
      " [0.40983607 0.59183673]\n",
      " [0.42622951 0.42857143]\n",
      " [0.42622951 0.57142857]\n",
      " [0.42622951 0.56122449]\n",
      " [0.42622951 0.39795918]\n",
      " [0.44262295 0.58163265]\n",
      " [0.44262295 0.91836735]\n",
      " [0.45081967 0.28571429]\n",
      " [0.45081967 0.7755102 ]\n",
      " [0.45901639 0.34693878]\n",
      " [0.45901639 0.95918367]\n",
      " [0.45901639 0.10204082]\n",
      " [0.45901639 0.75510204]\n",
      " [0.45901639 0.08163265]\n",
      " [0.45901639 0.75510204]\n",
      " [0.46721311 0.33673469]\n",
      " [0.46721311 0.71428571]\n",
      " [0.47540984 0.04081633]\n",
      " [0.47540984 0.8877551 ]\n",
      " [0.47540984 0.06122449]\n",
      " [0.47540984 0.73469388]\n",
      " [0.48360656 0.09183673]\n",
      " [0.48360656 0.7244898 ]\n",
      " [0.49180328 0.04081633]\n",
      " [0.49180328 0.93877551]\n",
      " [0.5        0.39795918]\n",
      " [0.5        0.87755102]\n",
      " [0.50819672 0.1122449 ]\n",
      " [0.50819672 0.97959184]\n",
      " [0.50819672 0.35714286]\n",
      " [0.50819672 0.74489796]\n",
      " [0.51639344 0.21428571]\n",
      " [0.51639344 0.90816327]\n",
      " [0.51639344 0.16326531]\n",
      " [0.51639344 0.8877551 ]\n",
      " [0.51639344 0.19387755]\n",
      " [0.51639344 0.76530612]\n",
      " [0.51639344 0.15306122]\n",
      " [0.51639344 0.89795918]\n",
      " [0.51639344 0.        ]\n",
      " [0.51639344 0.78571429]\n",
      " [0.51639344 0.        ]\n",
      " [0.51639344 0.73469388]\n",
      " [0.52459016 0.34693878]\n",
      " [0.52459016 0.83673469]\n",
      " [0.54098361 0.04081633]\n",
      " [0.54098361 0.93877551]\n",
      " [0.57377049 0.25510204]\n",
      " [0.57377049 0.75510204]\n",
      " [0.58196721 0.19387755]\n",
      " [0.58196721 0.95918367]\n",
      " [0.59016393 0.26530612]\n",
      " [0.59016393 0.63265306]\n",
      " [0.59016393 0.12244898]\n",
      " [0.59016393 0.75510204]\n",
      " [0.59016393 0.09183673]\n",
      " [0.59016393 0.92857143]\n",
      " [0.59836066 0.12244898]\n",
      " [0.59836066 0.86734694]\n",
      " [0.59836066 0.14285714]\n",
      " [0.59836066 0.69387755]\n",
      " [0.63934426 0.13265306]\n",
      " [0.63934426 0.90816327]\n",
      " [0.67213115 0.31632653]\n",
      " [0.67213115 0.86734694]\n",
      " [0.68032787 0.14285714]\n",
      " [0.68032787 0.8877551 ]\n",
      " [0.68852459 0.3877551 ]\n",
      " [0.68852459 0.97959184]\n",
      " [0.70491803 0.23469388]\n",
      " [0.70491803 0.68367347]\n",
      " [0.72131148 0.16326531]\n",
      " [0.72131148 0.85714286]\n",
      " [0.72131148 0.2244898 ]\n",
      " [0.72131148 0.69387755]\n",
      " [0.80327869 0.07142857]\n",
      " [0.80327869 0.91836735]\n",
      " [0.86065574 0.15306122]\n",
      " [0.86065574 0.79591837]\n",
      " [0.90983607 0.2755102 ]\n",
      " [0.90983607 0.74489796]\n",
      " [1.         0.17346939]\n",
      " [1.         0.83673469]]\n"
     ]
    }
   ],
   "source": [
    "# elegir los valores de la columna de ingresos anuales y la columna de puntuación de gastos y guardalos en la variable X\n",
    "X = customer_data.iloc[:,[0,1]].values\n",
    "print(X)"
   ]
  },
  {
   "cell_type": "markdown",
   "id": "87169b44-1fc7-4adf-a87a-c14717955eb2",
   "metadata": {},
   "source": [
    "# Entrenar el modelo configurando los diferentes hiperparámetros"
   ]
  },
  {
   "cell_type": "code",
   "execution_count": 25,
   "id": "d0fe1603-fa8c-4e81-8972-1443260f75f4",
   "metadata": {},
   "outputs": [],
   "source": [
    "# Encontrar el valor wcss para diferentes cantidades de clústeres\n",
    "\n",
    "wcss = []\n",
    "\n",
    "for i in range(1,11):\n",
    "  kmeans = KMeans(n_clusters=i, init='k-means++', random_state=42)\n",
    "  kmeans.fit(X)\n",
    "\n",
    "  wcss.append(kmeans.inertia_)"
   ]
  },
  {
   "cell_type": "code",
   "execution_count": 26,
   "id": "4bfe80d2-e6ac-4ad7-848e-ab8428ef2c78",
   "metadata": {},
   "outputs": [
    {
     "data": {
      "image/png": "[encoded data removed]",
      "text/plain": [
       "<Figure size 640x480 with 1 Axes>"
      ]
     },
     "metadata": {},
     "output_type": "display_data"
    }
   ],
   "source": [
    "# Grafica de codo para la seleccion de \"k\"\n",
    "\n",
    "sns.set()\n",
    "plt.plot(range(1,11), wcss)\n",
    "plt.title('Grafica Metodo del Codo')\n",
    "plt.xlabel('Numero de clusters')\n",
    "plt.ylabel('WCSS')\n",
    "plt.show()"
   ]
  },
  {
   "cell_type": "code",
   "execution_count": 29,
   "id": "8fab2346-9373-4235-b76f-431f350a0ad8",
   "metadata": {},
   "outputs": [
    {
     "name": "stdout",
     "output_type": "stream",
     "text": [
      "[3 4 3 4 3 4 3 4 3 4 3 4 3 4 3 4 3 4 3 4 3 4 3 4 3 4 3 4 3 4 3 4 3 4 3 4 3\n",
      " 4 3 4 3 4 3 0 3 4 0 0 0 0 0 0 0 0 0 0 0 0 0 0 0 0 0 0 0 0 0 0 0 0 0 0 0 0\n",
      " 0 0 0 0 0 0 0 0 0 0 0 0 0 0 0 0 0 0 0 0 0 0 0 0 0 0 0 0 0 0 0 0 0 0 0 0 0\n",
      " 0 0 0 0 0 0 0 0 0 0 0 0 2 1 2 0 2 1 2 1 2 0 2 1 2 1 2 1 2 1 2 0 2 1 2 1 2\n",
      " 1 2 1 2 1 2 1 2 1 2 1 2 1 2 1 2 1 2 1 2 1 2 1 2 1 2 1 2 1 2 1 2 1 2 1 2 1\n",
      " 2 1 2 1 2 1 2 1 2 1 2 1 2 1 2]\n"
     ]
    }
   ],
   "source": [
    "# Generación del modelo de Agrupamiento del modelo con K=5 (Es decir haremos 5 grupos de agrupamiento) \n",
    "kmeans = KMeans(n_clusters=5, init='k-means++', random_state=0)\n",
    "\n",
    "# devuelve una etiqueta para cada punto de datos en función de su grupo\n",
    "Y = kmeans.fit_predict(X)\n",
    "\n",
    "print(Y)"
   ]
  },
  {
   "cell_type": "markdown",
   "id": "8d46ba23-2b8c-4288-bdfb-69a5e57ee589",
   "metadata": {},
   "source": [
    "# Evaluar el desempeño del modelo con métricas como Coeficiente de Silhouette, Índice de Calinski-Harabasz, etc"
   ]
  },
  {
   "cell_type": "code",
   "execution_count": 32,
   "id": "a671fc00-ff08-4cc9-9ebd-5a76d7a8c6ec",
   "metadata": {},
   "outputs": [
    {
     "name": "stdout",
     "output_type": "stream",
     "text": [
      "+--------------------------+--------------------+\n",
      "|          Metric          |       Value        |\n",
      "+--------------------------+--------------------+\n",
      "| Numero de Observaciones  |        200         |\n",
      "|  Coeficiente Silhouette  | 0.5594854531227246 |\n",
      "| Indice Calinski Harabasz | 264.72980875215904 |\n",
      "|  Indice Davies Bouldin   | 0.5678112087671997 |\n",
      "+--------------------------+--------------------+\n"
     ]
    }
   ],
   "source": [
    "Observaciones = len(X)\n",
    "\n",
    "# Se calculan las métricas\n",
    "sil_score = silhouette_score(X, Y)\n",
    "calinski_score = calinski_harabasz_score(X, Y)\n",
    "davies_score = davies_bouldin_score(X, Y)\n",
    "\n",
    "# Se crea una tabla para mostrar los valores de las métricas\n",
    "table_data = [\n",
    "    [\"Numero de Observaciones\", Observaciones],\n",
    "    [\"Coeficiente Silhouette\", sil_score],\n",
    "    [\"Indice Calinski Harabasz\", calinski_score],\n",
    "    [\"Indice Davies Bouldin\", davies_score]\n",
    "]\n",
    "\n",
    "# Imprime la tabla\n",
    "from tabulate import tabulate\n",
    "print(tabulate(table_data, headers=[\"Metric\", \"Value\"], tablefmt='pretty'))"
   ]
  },
  {
   "cell_type": "markdown",
   "id": "3cb33357-04a4-420d-ba22-e7c7e0ce5181",
   "metadata": {},
   "source": [
    "# Realizar las diferentes gráficas que permitan visualizar los resultados del modelo"
   ]
  },
  {
   "cell_type": "code",
   "execution_count": 40,
   "id": "d849287b-7862-4c81-8266-1732ddf49272",
   "metadata": {},
   "outputs": [
    {
     "data": {
      "image/png": "[encoded data removed]",
      "text/plain": [
       "<Figure size 800x800 with 1 Axes>"
      ]
     },
     "metadata": {},
     "output_type": "display_data"
    }
   ],
   "source": [
    "# plotting all the clusters and their Centroids\n",
    "\n",
    "plt.figure(figsize=(8,8))\n",
    "plt.scatter(X[Y==0,0], X[Y==0,1], s=50, c='green', label='Cluster 1')\n",
    "plt.scatter(X[Y==1,0], X[Y==1,1], s=50, c='red', label='Cluster 2')\n",
    "plt.scatter(X[Y==2,0], X[Y==2,1], s=50, c='yellow', label='Cluster 3')\n",
    "plt.scatter(X[Y==3,0], X[Y==3,1], s=50, c='violet', label='Cluster 4')\n",
    "plt.scatter(X[Y==4,0], X[Y==4,1], s=50, c='blue', label='Cluster 5')\n",
    "\n",
    "# plot the centroids\n",
    "plt.scatter(kmeans.cluster_centers_[:,0], kmeans.cluster_centers_[:,1], s=100, c='cyan', label='Centroids')\n",
    "\n",
    "plt.title('Customer Groups')\n",
    "plt.xlabel('Annual Income')\n",
    "plt.ylabel('Spending Score')\n",
    "plt.show()"
   ]
  },
  {
   "cell_type": "markdown",
   "id": "bc563cc5-f451-4c26-a30a-55f756c0fa92",
   "metadata": {},
   "source": [
    "# Interpretar, analizar y documentar los resultados obtenidos"
   ]
  },
  {
   "cell_type": "markdown",
   "id": "73bd14d7-9914-41a4-8eab-2d67720a2ea7",
   "metadata": {},
   "source": [
    "Del desempeño del modelo se puede describir:"
   ]
  },
  {
   "cell_type": "markdown",
   "id": "f3679b74-6e59-494d-a217-3e9f7ff77503",
   "metadata": {},
   "source": [
    "- Coeficiente Silhouette: La puntuación de Silhouette obtenida es de aproximadamente 0.559. Aunque este valor no se acerca completamente a 1, lo que sería ideal, aún indica una buena separación entre los grupos. Un valor cercano a 0.6 sugiere que los grupos son razonablemente distintos entre sí, aunque es posible que exista cierta superposición leve entre algunos de ellos. En términos generales, una puntuación de Silhouette más alta (cercana a 1) sería deseable, ya que indicaría que los puntos dentro de un cluster están mucho más próximos entre sí que a puntos de otros clusters, representando una mayor cohesión interna y separación entre los grupos.\n",
    "  \n",
    "- Índice Calinski-Harabasz: La puntuación de Calinski-Harabasz obtenida es de 264.72, un valor considerablemente alto que sugiere que los clusters están bien definidos y estructurados. En general, una puntuación elevada en esta métrica indica que los clusters no solo tienen una buena cohesión interna, sino que también están bien separados entre sí. Esto implica que la segmentación ha capturado una estructura significativa en los datos, lo cual es un buen indicativo de que la agrupación ha sido eficaz.\n",
    "  \n",
    "- Índice Davies-Bouldin: El Índice Davies-Bouldin obtenido es de 0.568, lo cual representa una puntuación razonable y sugiere un nivel moderado de similitud entre cada grupo y su cluster más cercano. En esta métrica, los valores más bajos son preferibles, ya que indican menor similitud entre los clusters y, por lo tanto, una mejor separación. En general, este índice respalda que la agrupación realizada es adecuada, proporcionando una estructura válida para segmentaciones prácticas, como en el análisis de perfiles de clientes.\r\n"
   ]
  }
 ],
 "metadata": {
  "kernelspec": {
   "display_name": "Python 3 (ipykernel)",
   "language": "python",
   "name": "python3"
  },
  "language_info": {
   "codemirror_mode": {
    "name": "ipython",
    "version": 3
   },
   "file_extension": ".py",
   "mimetype": "text/x-python",
   "name": "python",
   "nbconvert_exporter": "python",
   "pygments_lexer": "ipython3",
   "version": "3.12.4"
  }
 },
 "nbformat": 4,
 "nbformat_minor": 5
}
